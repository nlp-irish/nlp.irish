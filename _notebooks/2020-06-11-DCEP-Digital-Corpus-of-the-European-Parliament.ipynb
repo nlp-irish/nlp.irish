{
 "cells": [
  {
   "cell_type": "markdown",
   "metadata": {},
   "source": [
    "# DCEP, Digital Corpus of the European Parliament\n",
    "> Documents published on the European Parliament's official website\n",
    "\n",
    "- toc: false\n",
    "- badges: false\n",
    "- comments: false\n",
    "- author: Morgan McGuire\n",
    "- categories: [DCEP, translation, nmt, mt]"
   ]
  },
  {
   "cell_type": "markdown",
   "metadata": {},
   "source": [
    "### Available for Download  ✅\n",
    "⚠️ Always check the license of the data source before using the data ⚠️\n",
    "- Main page: [https://ec.europa.eu/jrc/en/language-technologies/dcep](https://ec.europa.eu/jrc/en/language-technologies/dcep)\n",
    "- Download Link: [https://wt-public.emm4u.eu/Resources/DCEP-2013/DCEP-Download-Page.html](https://wt-public.emm4u.eu/Resources/DCEP-2013/DCEP-Download-Page.html)\n",
    "- Extraction Instructions: [https://wt-public.emm4u.eu/Resources/DCEP-2013/DCEP-extract-README.html](https://wt-public.emm4u.eu/Resources/DCEP-2013/DCEP-extract-README.html)\n",
    "- Format: **Sentence-aligned data is in plain text**"
   ]
  },
  {
   "cell_type": "markdown",
   "metadata": {},
   "source": [
    "### Brief Description\n",
    "\n",
    "Contains the majority of the documents published on the European Parliament's official website. It comprises a variety of document types, from press releases to session and legislative documents related to European Parliament's activities and bodies. The current version of the corpus contains documents that were produced between 2001 and 2012."
   ]
  },
  {
   "cell_type": "markdown",
   "metadata": {},
   "source": [
    "### Other Notes\n",
    "\n",
    "- Lines of text: 46,146\n",
    "- GA Word count: 1,029,348"
   ]
  },
  {
   "cell_type": "markdown",
   "metadata": {},
   "source": [
    "### Word Count Distribution"
   ]
  },
  {
   "cell_type": "code",
   "execution_count": 14,
   "metadata": {},
   "outputs": [
    {
     "data": {
      "text/plain": [
       "<matplotlib.axes._subplots.AxesSubplot at 0x7fc6a3dc8ed0>"
      ]
     },
     "execution_count": 14,
     "metadata": {},
     "output_type": "execute_result"
    },
    {
     "data": {
      "image/png": "[encoded data removed]",
      "text/plain": [
       "<Figure size 432x288 with 1 Axes>"
      ]
     },
     "metadata": {
      "needs_background": "light"
     },
     "output_type": "display_data"
    }
   ],
   "source": [
    "#hide_input\n",
    "import seaborn as sns\n",
    "sns.distplot(ga_df.ga_len, kde=False)\n",
    "plt.title('ga word count distribution');"
   ]
  },
  {
   "cell_type": "markdown",
   "metadata": {},
   "source": [
    "### Code to Extract Files to Pandas DataFrame\n",
    "GA-EN specific instructions are below, for more info see the offical [extraction instructions page](https://wt-public.emm4u.eu/Resources/DCEP-2013/DCEP-extract-README.html)"
   ]
  },
  {
   "cell_type": "markdown",
   "metadata": {},
   "source": [
    "1. Download and extract language files"
   ]
  },
  {
   "cell_type": "code",
   "execution_count": null,
   "metadata": {},
   "outputs": [],
   "source": [
    "!wget -q http://optima.jrc.it/Resources/DCEP-2013/sentences/DCEP-sentence-GA-pub.tar.bz2"
   ]
  },
  {
   "cell_type": "code",
   "execution_count": null,
   "metadata": {},
   "outputs": [],
   "source": [
    "!wget -q http://optima.jrc.it/Resources/DCEP-2013/sentences/DCEP-sentence-EN-pub.tar.bz2"
   ]
  },
  {
   "cell_type": "code",
   "execution_count": null,
   "metadata": {},
   "outputs": [],
   "source": [
    "!tar jxf DCEP-sentence-GA-pub.tar.bz2"
   ]
  },
  {
   "cell_type": "code",
   "execution_count": null,
   "metadata": {},
   "outputs": [],
   "source": [
    "!tar jxf DCEP-sentence-EN-pub.tar.bz2"
   ]
  },
  {
   "cell_type": "markdown",
   "metadata": {},
   "source": [
    "2. Download and extract language pair info"
   ]
  },
  {
   "cell_type": "code",
   "execution_count": 13,
   "metadata": {},
   "outputs": [],
   "source": [
    "!wget -q http://optima.jrc.it/Resources/DCEP-2013/langpairs/DCEP-EN-GA.tar.bz2"
   ]
  },
  {
   "cell_type": "code",
   "execution_count": 10,
   "metadata": {},
   "outputs": [],
   "source": [
    "!tar jxf DCEP-EN-GA.tar.bz2"
   ]
  },
  {
   "cell_type": "markdown",
   "metadata": {},
   "source": [
    "3. Download and extract alignment scripts"
   ]
  },
  {
   "cell_type": "code",
   "execution_count": 12,
   "metadata": {},
   "outputs": [],
   "source": [
    "!wget -q http://optima.jrc.it/Resources/DCEP-2013/DCEP-extract-scripts.tar.bz2"
   ]
  },
  {
   "cell_type": "code",
   "execution_count": null,
   "metadata": {},
   "outputs": [],
   "source": [
    "!tar jxvf DCEP-extract-scripts.tar.bz2"
   ]
  },
  {
   "cell_type": "markdown",
   "metadata": {},
   "source": [
    "4. Create aligned file\n",
    "\n",
    "> The `--numbering-filter` is a crude but useful heuristic that attempts to drop numberings\n",
    "and short titles from the output. It works simply by matching sentences on both sides\n",
    "against a Unicode regex that looks for two alphabetic characters with space between them.\n",
    "\n",
    "> The `--length-filter-level=LENGTH_FILTER_LEVEL` argument is used to throw away as suspicious\n",
    "all bisentences where the ratio of the shorter and the longer sentence (in character length)\n",
    "is less than LENGTH_FILTER_LEVEL percent."
   ]
  },
  {
   "cell_type": "code",
   "execution_count": 15,
   "metadata": {},
   "outputs": [],
   "source": [
    "!cd dcep && ./src/languagepair.py --numbering-filter --length-filter-level=40 EN-GA > EN-GA-bisentences.txt"
   ]
  },
  {
   "cell_type": "markdown",
   "metadata": {},
   "source": [
    "5. Open as a Dataframe"
   ]
  },
  {
   "cell_type": "code",
   "execution_count": 18,
   "metadata": {
    "scrolled": true
   },
   "outputs": [
    {
     "name": "stdout",
     "output_type": "stream",
     "text": [
      "46147\n"
     ]
    },
    {
     "data": {
      "text/html": [
       "<div>\n",
       "<style scoped>\n",
       "    .dataframe tbody tr th:only-of-type {\n",
       "        vertical-align: middle;\n",
       "    }\n",
       "\n",
       "    .dataframe tbody tr th {\n",
       "        vertical-align: top;\n",
       "    }\n",
       "\n",
       "    .dataframe thead th {\n",
       "        text-align: right;\n",
       "    }\n",
       "</style>\n",
       "<table border=\"1\" class=\"dataframe\">\n",
       "  <thead>\n",
       "    <tr style=\"text-align: right;\">\n",
       "      <th></th>\n",
       "      <th>en</th>\n",
       "      <th>ga</th>\n",
       "    </tr>\n",
       "  </thead>\n",
       "  <tbody>\n",
       "    <tr>\n",
       "      <th>0</th>\n",
       "      <td>RULES OF PROCEDURE</td>\n",
       "      <td>RIALACHA NÓS IMEACHTA</td>\n",
       "    </tr>\n",
       "    <tr>\n",
       "      <th>1</th>\n",
       "      <td>7th parliamentary term</td>\n",
       "      <td>7ú téarma parlaiminteach</td>\n",
       "    </tr>\n",
       "    <tr>\n",
       "      <th>2</th>\n",
       "      <td>July 2009</td>\n",
       "      <td>Iúil 2009</td>\n",
       "    </tr>\n",
       "    <tr>\n",
       "      <th>3</th>\n",
       "      <td>Interpretations of the Rules (pursuant to Rule...</td>\n",
       "      <td>Tá léirmhínithe ar na Rialacha (de bhun Riail ...</td>\n",
       "    </tr>\n",
       "    <tr>\n",
       "      <th>4</th>\n",
       "      <td>MEMBERS, PARLIAMENT BODIES AND POLITICAL GROUPS</td>\n",
       "      <td>FEISIRÍ, COMHLACHTAÍ PARLAIMINTE AGUS GRÚPAÍ P...</td>\n",
       "    </tr>\n",
       "  </tbody>\n",
       "</table>\n",
       "</div>"
      ],
      "text/plain": [
       "                                                  en  \\\n",
       "0                                 RULES OF PROCEDURE   \n",
       "1                             7th parliamentary term   \n",
       "2                                          July 2009   \n",
       "3  Interpretations of the Rules (pursuant to Rule...   \n",
       "4    MEMBERS, PARLIAMENT BODIES AND POLITICAL GROUPS   \n",
       "\n",
       "                                                  ga  \n",
       "0                              RIALACHA NÓS IMEACHTA  \n",
       "1                           7ú téarma parlaiminteach  \n",
       "2                                          Iúil 2009  \n",
       "3  Tá léirmhínithe ar na Rialacha (de bhun Riail ...  \n",
       "4  FEISIRÍ, COMHLACHTAÍ PARLAIMINTE AGUS GRÚPAÍ P...  "
      ]
     },
     "execution_count": 18,
     "metadata": {},
     "output_type": "execute_result"
    }
   ],
   "source": [
    "import pandas as pd\n",
    "\n",
    "df = pd.read_csv('dcep/EN-GA-bisentences.txt', header=None, sep='\\t')\n",
    "df.columns = ['en', 'ga']\n",
    "df.to_csv('dcep_en-ga_bisentences.csv')\n",
    "print(len(df))\n",
    "df.head()"
   ]
  }
 ],
 "metadata": {
  "kernelspec": {
   "display_name": "Python 3",
   "language": "python",
   "name": "python3"
  },
  "language_info": {
   "codemirror_mode": {
    "name": "ipython",
    "version": 3
   },
   "file_extension": ".py",
   "mimetype": "text/x-python",
   "name": "python",
   "nbconvert_exporter": "python",
   "pygments_lexer": "ipython3",
   "version": "3.7.5"
  }
 },
 "nbformat": 4,
 "nbformat_minor": 4
}

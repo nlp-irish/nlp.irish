{
 "cells": [
  {
   "cell_type": "markdown",
   "metadata": {},
   "source": [
    "# DGT-TM, DGT-Translation Memory\n",
    "> European Commission's Directorate-General for Translation multilingual Translation Memory\n",
    "\n",
    "- toc: false\n",
    "- badges: false\n",
    "- comments: false\n",
    "- author: Morgan McGuire\n",
    "- categories: [DGT-TM, DGT-TM3, translation, nmt, mt]"
   ]
  },
  {
   "cell_type": "markdown",
   "metadata": {},
   "source": [
    "### Available for Download  ✅\n",
    "⚠️ Always check the license of the data source before using the data ⚠️\n",
    "- Link: [https://ec.europa.eu/jrc/en/language-technologies/dgt-translation-memory](https://ec.europa.eu/jrc/en/language-technologies/dgt-translation-memory)\n",
    "- Format: **.tmx**\n",
    "- NOTE:\n",
    "    - There are **no Irish translations** in:\n",
    "       - DGT-TM Version 1 (Released in 2007) \n",
    "       - DGT-TM-release 2011 \n",
    "    - \"DGT-TM-release 2012\" is the first release with Irish translations"
   ]
  },
  {
   "cell_type": "markdown",
   "metadata": {},
   "source": [
    "### Brief Description\n",
    "\n",
    "A parallel multilingual corpus of the European Union’s legislative documents (Acquis Communautaire) in 24 EU languages. The aligned translation units have been provided by the Directorate-General for Translation of the European Commission by extraction from one of its large shared translation memories in EURAMIS (European advanced multilingual information system). This memory contains most, although not all, of the documents which make up the Acquis Communautaire, as well as some other documents which are not part of the Acquis."
   ]
  },
  {
   "cell_type": "markdown",
   "metadata": {},
   "source": [
    "### Other Notes\n",
    "\n",
    "See the section on the EU site called \"How to produce bilingual extractions\" for a java-based alternative to extracting the TMX files\n",
    "\n",
    "- Lines of text: 190,500\n",
    "- GA Word count: 4,852,515"
   ]
  },
  {
   "cell_type": "markdown",
   "metadata": {},
   "source": [
    "### Word Count Distribution"
   ]
  },
  {
   "cell_type": "code",
   "execution_count": 12,
   "metadata": {},
   "outputs": [
    {
     "data": {
      "image/png": "[encoded data removed]",
      "text/plain": [
       "<Figure size 432x288 with 1 Axes>"
      ]
     },
     "metadata": {
      "needs_background": "light"
     },
     "output_type": "display_data"
    }
   ],
   "source": [
    "#hide_input\n",
    "sns.distplot(ga_df.ga_len, kde=False)\n",
    "plt.title('ga word count distribution');"
   ]
  },
  {
   "cell_type": "markdown",
   "metadata": {},
   "source": [
    "### Code to Extract TMX to DataFrame"
   ]
  },
  {
   "cell_type": "markdown",
   "metadata": {},
   "source": [
    "Pip install the `tmx2dataframe` package [here](https://github.com/jaderabbit/tmx2dataframe)\n",
    "\n",
    "> `pip install tmx2dataframe`"
   ]
  },
  {
   "cell_type": "markdown",
   "metadata": {},
   "source": [
    "### Extract from a single TMX file"
   ]
  },
  {
   "cell_type": "code",
   "execution_count": 3,
   "metadata": {},
   "outputs": [
    {
     "data": {
      "text/html": [
       "<div>\n",
       "<style scoped>\n",
       "    .dataframe tbody tr th:only-of-type {\n",
       "        vertical-align: middle;\n",
       "    }\n",
       "\n",
       "    .dataframe tbody tr th {\n",
       "        vertical-align: top;\n",
       "    }\n",
       "\n",
       "    .dataframe thead th {\n",
       "        text-align: right;\n",
       "    }\n",
       "</style>\n",
       "<table border=\"1\" class=\"dataframe\">\n",
       "  <thead>\n",
       "    <tr style=\"text-align: right;\">\n",
       "      <th></th>\n",
       "      <th>source_language</th>\n",
       "      <th>source_sentence</th>\n",
       "      <th>target_language</th>\n",
       "      <th>target_sentence</th>\n",
       "    </tr>\n",
       "  </thead>\n",
       "  <tbody>\n",
       "    <tr>\n",
       "      <th>0</th>\n",
       "      <td>EN-GB</td>\n",
       "      <td>Decision of the EEA Joint Committee No 33/2003...</td>\n",
       "      <td>ET-01</td>\n",
       "      <td>EMP Ühiskomitee otsus nr 33/2003, 14. märts 20...</td>\n",
       "    </tr>\n",
       "    <tr>\n",
       "      <th>1</th>\n",
       "      <td>EN-GB</td>\n",
       "      <td>THE EEA JOINT COMMITTEE,</td>\n",
       "      <td>ET-01</td>\n",
       "      <td>EMP ÜHISKOMITEE,</td>\n",
       "    </tr>\n",
       "    <tr>\n",
       "      <th>2</th>\n",
       "      <td>EN-GB</td>\n",
       "      <td>Having regard to the Agreement on the European...</td>\n",
       "      <td>ET-01</td>\n",
       "      <td>võttes arvesse Euroopa Majanduspiirkonna lepin...</td>\n",
       "    </tr>\n",
       "    <tr>\n",
       "      <th>3</th>\n",
       "      <td>EN-GB</td>\n",
       "      <td>HAS DECIDED AS FOLLOWS:</td>\n",
       "      <td>ET-01</td>\n",
       "      <td>ON VASTU VÕTNUD JÄRGMISE OTSUSE:</td>\n",
       "    </tr>\n",
       "    <tr>\n",
       "      <th>4</th>\n",
       "      <td>EN-GB</td>\n",
       "      <td>Article 1</td>\n",
       "      <td>ET-01</td>\n",
       "      <td>Artikkel 1</td>\n",
       "    </tr>\n",
       "  </tbody>\n",
       "</table>\n",
       "</div>"
      ],
      "text/plain": [
       "  source_language                                    source_sentence  \\\n",
       "0           EN-GB  Decision of the EEA Joint Committee No 33/2003...   \n",
       "1           EN-GB                           THE EEA JOINT COMMITTEE,   \n",
       "2           EN-GB  Having regard to the Agreement on the European...   \n",
       "3           EN-GB                            HAS DECIDED AS FOLLOWS:   \n",
       "4           EN-GB                                          Article 1   \n",
       "\n",
       "  target_language                                    target_sentence  \n",
       "0           ET-01  EMP Ühiskomitee otsus nr 33/2003, 14. märts 20...  \n",
       "1           ET-01                                   EMP ÜHISKOMITEE,  \n",
       "2           ET-01  võttes arvesse Euroopa Majanduspiirkonna lepin...  \n",
       "3           ET-01                   ON VASTU VÕTNUD JÄRGMISE OTSUSE:  \n",
       "4           ET-01                                         Artikkel 1  "
      ]
     },
     "execution_count": 3,
     "metadata": {},
     "output_type": "execute_result"
    }
   ],
   "source": [
    "from pathlib import Path\n",
    "import pandas as pd\n",
    "from tmx2dataframe import tmx2dataframe\n",
    "\n",
    "metadata, df = tmx2dataframe.read('Volume_1/22003D0033.tmx')\n",
    "df.head()"
   ]
  },
  {
   "cell_type": "code",
   "execution_count": 66,
   "metadata": {},
   "outputs": [
    {
     "data": {
      "text/plain": [
       "('Decision of the EEA Joint Committee No 33/2003 of 14 March 2003 amending Annex XIII (Transport) to the EEA Agreement',\n",
       " 'EMP Ühiskomitee otsus nr 33/2003, 14. märts 2003, millega muudetakse EMP lepingu XIII lisa (transport)')"
      ]
     },
     "execution_count": 66,
     "metadata": {},
     "output_type": "execute_result"
    }
   ],
   "source": [
    "df.source_sentence[0], df.target_sentence[0]"
   ]
  },
  {
   "cell_type": "code",
   "execution_count": 67,
   "metadata": {},
   "outputs": [
    {
     "data": {
      "text/plain": [
       "(35, 2)"
      ]
     },
     "execution_count": 67,
     "metadata": {},
     "output_type": "execute_result"
    }
   ],
   "source": [
    "len(df), len(df.target_sentence[1].split())"
   ]
  },
  {
   "cell_type": "markdown",
   "metadata": {},
   "source": [
    "The metadata is also included:"
   ]
  },
  {
   "cell_type": "code",
   "execution_count": 43,
   "metadata": {},
   "outputs": [
    {
     "data": {
      "text/plain": [
       "{'creationtool': 'tmexport2 2.32 27-03-2007',\n",
       " 'adminlang': 'EN-US',\n",
       " 'srclang': 'EN-GB'}"
      ]
     },
     "execution_count": 43,
     "metadata": {},
     "output_type": "execute_result"
    }
   ],
   "source": [
    "metadata"
   ]
  },
  {
   "cell_type": "markdown",
   "metadata": {},
   "source": [
    "### Extract language-specific sentences from multiple volumes and TMX files:"
   ]
  },
  {
   "cell_type": "code",
   "execution_count": 3,
   "metadata": {},
   "outputs": [],
   "source": [
    "#hide \n",
    "from pathlib import Path\n",
    "import gc\n",
    "import pandas as pd\n",
    "from tmx2dataframe import tmx2dataframe\n",
    "from fastprogress.fastprogress import master_bar, progress_bar\n",
    "import seaborn as sns\n",
    "import matplotlib.pyplot as plt "
   ]
  },
  {
   "cell_type": "code",
   "execution_count": 8,
   "metadata": {
    "scrolled": true
   },
   "outputs": [
    {
     "data": {
      "text/html": [],
      "text/plain": [
       "<IPython.core.display.HTML object>"
      ]
     },
     "metadata": {},
     "output_type": "display_data"
    },
    {
     "name": "stdout",
     "output_type": "stream",
     "text": [
      "2012 DONE!\n",
      "2848 samples found in 2012 release\n",
      "\n"
     ]
    },
    {
     "data": {
      "text/html": [],
      "text/plain": [
       "<IPython.core.display.HTML object>"
      ]
     },
     "metadata": {},
     "output_type": "display_data"
    },
    {
     "name": "stdout",
     "output_type": "stream",
     "text": [
      "2013 DONE!\n",
      "No GA text found in 2013 release\n",
      "\n"
     ]
    },
    {
     "data": {
      "text/html": [],
      "text/plain": [
       "<IPython.core.display.HTML object>"
      ]
     },
     "metadata": {},
     "output_type": "display_data"
    },
    {
     "name": "stdout",
     "output_type": "stream",
     "text": [
      "2014 DONE!\n",
      "41461 samples found in 2014 release\n",
      "\n"
     ]
    },
    {
     "data": {
      "text/html": [],
      "text/plain": [
       "<IPython.core.display.HTML object>"
      ]
     },
     "metadata": {},
     "output_type": "display_data"
    },
    {
     "name": "stdout",
     "output_type": "stream",
     "text": [
      "2015 DONE!\n",
      "7673 samples found in 2015 release\n",
      "\n"
     ]
    },
    {
     "data": {
      "text/html": [],
      "text/plain": [
       "<IPython.core.display.HTML object>"
      ]
     },
     "metadata": {},
     "output_type": "display_data"
    },
    {
     "name": "stdout",
     "output_type": "stream",
     "text": [
      "2016 DONE!\n",
      "9127 samples found in 2016 release\n",
      "\n"
     ]
    },
    {
     "data": {
      "text/html": [],
      "text/plain": [
       "<IPython.core.display.HTML object>"
      ]
     },
     "metadata": {},
     "output_type": "display_data"
    },
    {
     "name": "stdout",
     "output_type": "stream",
     "text": [
      "2017 DONE!\n",
      "37181 samples found in 2017 release\n",
      "\n"
     ]
    },
    {
     "data": {
      "text/html": [],
      "text/plain": [
       "<IPython.core.display.HTML object>"
      ]
     },
     "metadata": {},
     "output_type": "display_data"
    },
    {
     "name": "stdout",
     "output_type": "stream",
     "text": [
      "2018 DONE!\n",
      "30014 samples found in 2018 release\n",
      "\n"
     ]
    },
    {
     "data": {
      "text/html": [],
      "text/plain": [
       "<IPython.core.display.HTML object>"
      ]
     },
     "metadata": {},
     "output_type": "display_data"
    },
    {
     "name": "stdout",
     "output_type": "stream",
     "text": [
      "2019 DONE!\n",
      "53652 samples found in 2019 release\n",
      "\n"
     ]
    }
   ],
   "source": [
    "lang='GA'\n",
    "#yr='2013'\n",
    "\n",
    "yr_list=[]\n",
    "for y in range(2,10):\n",
    "    yr_list.append(f'201{y}')\n",
    "\n",
    "# For each release year\n",
    "for yr in yr_list:\n",
    "    dir_path = Path(f'{yr}_release') \n",
    "\n",
    "    dir_list=[]\n",
    "    for dd in dir_path.iterdir():\n",
    "        if dd.is_dir(): dir_list.append(dd)\n",
    "\n",
    "    mb = master_bar(dir_list)\n",
    "    # For directory in a specific release year\n",
    "    for d in mb: \n",
    "        if d.is_dir() & (d.suffix != '.zip'):\n",
    "            # For each file in a specific directory\n",
    "            for f in progress_bar(list(d.iterdir()), parent=mb): \n",
    "                if f.suffix == '.tmx': \n",
    "                    try:\n",
    "                        _, df = tmx2dataframe.read(str(f))\n",
    "                        # If target_language in dataframe contains the language string (like 'GA')\n",
    "                        if len(df[df.target_language.str.contains(lang)]) > 0:\n",
    "                            tmp = df[df.target_language.str.contains(lang)].copy()\n",
    "                            tmp['filepath'] = str(f)\n",
    "                            var_exists = 'ga_df' in locals() or 'ga_df' in globals()\n",
    "                            if var_exists: ga_df = pd.concat([ga_df, tmp])\n",
    "                            else: ga_df = tmp\n",
    "                    except:\n",
    "                        print(f\"Couldn't open {f} in {d}\") \n",
    "    print(f'{yr} DONE!')\n",
    "    var_exists = 'ga_df' in locals() or 'ga_df' in globals()\n",
    "    if var_exists:\n",
    "        print(f'{len(ga_df)} samples found in {yr} release')\n",
    "        ga_df.reset_index(inplace=True, drop=True)\n",
    "        ga_df.to_csv(f'dgt_tm_{yr}_release_en-ga.csv')\n",
    "        del ga_df\n",
    "        gc.collect()\n",
    "    else: print(f'No {lang} text found in {yr} release')\n",
    "    print()\n",
    "    #ga_df.head()"
   ]
  },
  {
   "cell_type": "markdown",
   "metadata": {},
   "source": [
    "#### Compile all release years"
   ]
  },
  {
   "cell_type": "code",
   "execution_count": 17,
   "metadata": {},
   "outputs": [
    {
     "name": "stdout",
     "output_type": "stream",
     "text": [
      "190500\n"
     ]
    },
    {
     "data": {
      "text/html": [
       "<div>\n",
       "<style scoped>\n",
       "    .dataframe tbody tr th:only-of-type {\n",
       "        vertical-align: middle;\n",
       "    }\n",
       "\n",
       "    .dataframe tbody tr th {\n",
       "        vertical-align: top;\n",
       "    }\n",
       "\n",
       "    .dataframe thead th {\n",
       "        text-align: right;\n",
       "    }\n",
       "</style>\n",
       "<table border=\"1\" class=\"dataframe\">\n",
       "  <thead>\n",
       "    <tr style=\"text-align: right;\">\n",
       "      <th></th>\n",
       "      <th>source_language</th>\n",
       "      <th>source_sentence</th>\n",
       "      <th>target_language</th>\n",
       "      <th>target_sentence</th>\n",
       "      <th>filepath</th>\n",
       "    </tr>\n",
       "  </thead>\n",
       "  <tbody>\n",
       "    <tr>\n",
       "      <th>0</th>\n",
       "      <td>EN-GB</td>\n",
       "      <td>Regulation (EU) No 1174/2011 of the European P...</td>\n",
       "      <td>GA-IE</td>\n",
       "      <td>Rialachán (AE) Uimh. 1174/2011 ó Pharlaimint n...</td>\n",
       "      <td>2012_release/Vol_2011_4/32011R1174.tmx</td>\n",
       "    </tr>\n",
       "    <tr>\n",
       "      <th>1</th>\n",
       "      <td>EN-GB</td>\n",
       "      <td>of 16 November 2011</td>\n",
       "      <td>GA-IE</td>\n",
       "      <td>an 16 Samhain 2011</td>\n",
       "      <td>2012_release/Vol_2011_4/32011R1174.tmx</td>\n",
       "    </tr>\n",
       "    <tr>\n",
       "      <th>2</th>\n",
       "      <td>EN-GB</td>\n",
       "      <td>on enforcement measures to correct excessive m...</td>\n",
       "      <td>GA-IE</td>\n",
       "      <td>maidir le bearta forfheidhmiúcháin chun míchot...</td>\n",
       "      <td>2012_release/Vol_2011_4/32011R1174.tmx</td>\n",
       "    </tr>\n",
       "    <tr>\n",
       "      <th>3</th>\n",
       "      <td>EN-GB</td>\n",
       "      <td>THE EUROPEAN PARLIAMENT AND THE COUNCIL OF THE...</td>\n",
       "      <td>GA-IE</td>\n",
       "      <td>TÁ PARLAIMINT NA hEORPA AGUS COMHAIRLE AN AONT...</td>\n",
       "      <td>2012_release/Vol_2011_4/32011R1174.tmx</td>\n",
       "    </tr>\n",
       "    <tr>\n",
       "      <th>4</th>\n",
       "      <td>EN-GB</td>\n",
       "      <td>Having regard to the Treaty on the Functioning...</td>\n",
       "      <td>GA-IE</td>\n",
       "      <td>Ag féachaint don Chonradh ar Fheidhmiú an Aont...</td>\n",
       "      <td>2012_release/Vol_2011_4/32011R1174.tmx</td>\n",
       "    </tr>\n",
       "  </tbody>\n",
       "</table>\n",
       "</div>"
      ],
      "text/plain": [
       "  source_language                                    source_sentence  \\\n",
       "0           EN-GB  Regulation (EU) No 1174/2011 of the European P...   \n",
       "1           EN-GB                                of 16 November 2011   \n",
       "2           EN-GB  on enforcement measures to correct excessive m...   \n",
       "3           EN-GB  THE EUROPEAN PARLIAMENT AND THE COUNCIL OF THE...   \n",
       "4           EN-GB  Having regard to the Treaty on the Functioning...   \n",
       "\n",
       "  target_language                                    target_sentence  \\\n",
       "0           GA-IE  Rialachán (AE) Uimh. 1174/2011 ó Pharlaimint n...   \n",
       "1           GA-IE                                 an 16 Samhain 2011   \n",
       "2           GA-IE  maidir le bearta forfheidhmiúcháin chun míchot...   \n",
       "3           GA-IE  TÁ PARLAIMINT NA hEORPA AGUS COMHAIRLE AN AONT...   \n",
       "4           GA-IE  Ag féachaint don Chonradh ar Fheidhmiú an Aont...   \n",
       "\n",
       "                                 filepath  \n",
       "0  2012_release/Vol_2011_4/32011R1174.tmx  \n",
       "1  2012_release/Vol_2011_4/32011R1174.tmx  \n",
       "2  2012_release/Vol_2011_4/32011R1174.tmx  \n",
       "3  2012_release/Vol_2011_4/32011R1174.tmx  \n",
       "4  2012_release/Vol_2011_4/32011R1174.tmx  "
      ]
     },
     "execution_count": 17,
     "metadata": {},
     "output_type": "execute_result"
    }
   ],
   "source": [
    "for y in range(2,10):\n",
    "    try:\n",
    "        if y == 2: ga_df = pd.read_csv(f'dgt_tm_201{y}_release_en-ga.csv', index_col=0)\n",
    "        tmp = pd.read_csv(f'dgt_tm_201{y}_release_en-ga.csv', index_col=0)\n",
    "        ga_df = pd.concat([ga_df, tmp])\n",
    "    except:\n",
    "        print(f'Error with opening dgt_tm_201{y}_release_en-ga.csv')\n",
    "\n",
    "ga_df.reset_index(inplace=True, drop=True)\n",
    "print(len(ga_df))\n",
    "ga_df.to_csv('dgt_tm_2012-2019_releases_en-ga.csv', index=False)\n",
    "ga_df.head()"
   ]
  },
  {
   "cell_type": "markdown",
   "metadata": {},
   "source": [
    "### Other Files\n",
    "#### file_list.txt\n",
    "\n",
    "The .zip files also contain a .txt file with the original filename and what languages it is available in:"
   ]
  },
  {
   "cell_type": "code",
   "execution_count": 49,
   "metadata": {
    "scrolled": true
   },
   "outputs": [
    {
     "data": {
      "text/html": [
       "<div>\n",
       "<style scoped>\n",
       "    .dataframe tbody tr th:only-of-type {\n",
       "        vertical-align: middle;\n",
       "    }\n",
       "\n",
       "    .dataframe tbody tr th {\n",
       "        vertical-align: top;\n",
       "    }\n",
       "\n",
       "    .dataframe thead th {\n",
       "        text-align: right;\n",
       "    }\n",
       "</style>\n",
       "<table border=\"1\" class=\"dataframe\">\n",
       "  <thead>\n",
       "    <tr style=\"text-align: right;\">\n",
       "      <th></th>\n",
       "      <th>fst</th>\n",
       "    </tr>\n",
       "  </thead>\n",
       "  <tbody>\n",
       "    <tr>\n",
       "      <th>0</th>\n",
       "      <td>21970A0720(01).tmx EN:54  BG:34 CS:35 ET:44 FR...</td>\n",
       "    </tr>\n",
       "    <tr>\n",
       "      <th>1</th>\n",
       "      <td>21970A1123(01).tmx EN:631  BG:569 ET:547 FR:55...</td>\n",
       "    </tr>\n",
       "    <tr>\n",
       "      <th>2</th>\n",
       "      <td>21972A0722(03).tmx EN:4674  BG:1436 HU:1629 LT...</td>\n",
       "    </tr>\n",
       "    <tr>\n",
       "      <th>3</th>\n",
       "      <td>21972A0722(04).tmx EN:29  BG:16 FR:9 HU:28 MT:...</td>\n",
       "    </tr>\n",
       "    <tr>\n",
       "      <th>4</th>\n",
       "      <td>21972A0722(05).tmx EN:251  BG:214 FR:219</td>\n",
       "    </tr>\n",
       "  </tbody>\n",
       "</table>\n",
       "</div>"
      ],
      "text/plain": [
       "                                                 fst\n",
       "0  21970A0720(01).tmx EN:54  BG:34 CS:35 ET:44 FR...\n",
       "1  21970A1123(01).tmx EN:631  BG:569 ET:547 FR:55...\n",
       "2  21972A0722(03).tmx EN:4674  BG:1436 HU:1629 LT...\n",
       "3  21972A0722(04).tmx EN:29  BG:16 FR:9 HU:28 MT:...\n",
       "4          21972A0722(05).tmx EN:251  BG:214 FR:219 "
      ]
     },
     "execution_count": 49,
     "metadata": {},
     "output_type": "execute_result"
    }
   ],
   "source": [
    "df_ls = pd.read_csv('Volume_1/file_list.txt', header=None)\n",
    "df_ls.columns = ['fst']\n",
    "df_ls.head()"
   ]
  },
  {
   "cell_type": "code",
   "execution_count": 50,
   "metadata": {},
   "outputs": [
    {
     "data": {
      "text/plain": [
       "'21970A0720(01).tmx EN:54  BG:34 CS:35 ET:44 FR:41 HU:39 LV:41 MT:42 PL:40 SK:35 SL:41 '"
      ]
     },
     "execution_count": 50,
     "metadata": {},
     "output_type": "execute_result"
    }
   ],
   "source": [
    "df_ls.fst[0]"
   ]
  }
 ],
 "metadata": {
  "kernelspec": {
   "display_name": "Python 3",
   "language": "python",
   "name": "python3"
  },
  "language_info": {
   "codemirror_mode": {
    "name": "ipython",
    "version": 3
   },
   "file_extension": ".py",
   "mimetype": "text/x-python",
   "name": "python",
   "nbconvert_exporter": "python",
   "pygments_lexer": "ipython3",
   "version": "3.7.5"
  }
 },
 "nbformat": 4,
 "nbformat_minor": 4
}

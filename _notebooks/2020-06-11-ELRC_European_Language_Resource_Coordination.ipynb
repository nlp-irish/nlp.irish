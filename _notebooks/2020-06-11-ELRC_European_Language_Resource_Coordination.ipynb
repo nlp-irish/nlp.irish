{
 "cells": [
  {
   "cell_type": "markdown",
   "metadata": {},
   "source": [
    "# ELRC, European Language Resource Coordination\n",
    "> Documents published on the European Parliament's official website\n",
    "\n",
    "- toc: false\n",
    "- badges: false\n",
    "- comments: false\n",
    "- categories: ELRC, translation, nmt, mt"
   ]
  },
  {
   "cell_type": "markdown",
   "metadata": {},
   "source": [
    "### Available for Download  ✅\n",
    "⚠️ Always check the license of the data source before using the data ⚠️\n",
    "- Main page: [https://elrc-share.eu/](https://elrc-share.eu/)\n",
    "- Data Browse Link: [https://elrc-share.eu/repository/search/](https://elrc-share.eu/repository/search/)\n",
    "- Format: **.tmx**"
   ]
  },
  {
   "cell_type": "markdown",
   "metadata": {},
   "source": [
    "### Brief Description\n",
    "\n",
    "The ELRC-SHARE repository is used for documenting, storing, browsing and accessing Language Resources that are collected through the European Language Resource Coordination and considered useful for feeding the CEF Automated Translation (CEF.AT) platform."
   ]
  },
  {
   "cell_type": "markdown",
   "metadata": {},
   "source": [
    "### Other Notes\n",
    "The files here are all hosted individually on ELRC and so have to be downloaded individually which requires a little patience. Let us know if there is a more efficient way to download them!\n",
    "\n",
    "- No. source documents: 33\n",
    "- Lines of text: 23,946 \n",
    "- GA Word count: 485,570"
   ]
  },
  {
   "cell_type": "markdown",
   "metadata": {},
   "source": [
    "### Word Count Distribution"
   ]
  },
  {
   "cell_type": "code",
   "execution_count": 31,
   "metadata": {},
   "outputs": [
    {
     "data": {
      "image/png": "[encoded data removed]",
      "text/plain": [
       "<Figure size 432x288 with 1 Axes>"
      ]
     },
     "metadata": {
      "needs_background": "light"
     },
     "output_type": "display_data"
    }
   ],
   "source": [
    "#hide_input\n",
    "sns.distplot(ga_df.ga_len, kde=False)\n",
    "plt.title('ga word count distribution');"
   ]
  },
  {
   "cell_type": "markdown",
   "metadata": {},
   "source": [
    "### Code to Extract to a Pandas DataFrame"
   ]
  },
  {
   "cell_type": "code",
   "execution_count": null,
   "metadata": {},
   "outputs": [],
   "source": [
    "#hide\n",
    "from pathlib import Path\n",
    "import pandas as pd\n",
    "from tmx2dataframe import tmx2dataframe\n",
    "from fastprogress.fastprogress import master_bar, progress_bar\n",
    "import gc\n",
    "import seaborn as sns\n",
    "import matplotlib.pyplot as plt "
   ]
  },
  {
   "cell_type": "code",
   "execution_count": 1,
   "metadata": {
    "scrolled": true
   },
   "outputs": [
    {
     "name": "stdout",
     "output_type": "stream",
     "text": [
      "10297\n"
     ]
    },
    {
     "data": {
      "text/html": [
       "<div>\n",
       "<style scoped>\n",
       "    .dataframe tbody tr th:only-of-type {\n",
       "        vertical-align: middle;\n",
       "    }\n",
       "\n",
       "    .dataframe tbody tr th {\n",
       "        vertical-align: top;\n",
       "    }\n",
       "\n",
       "    .dataframe thead th {\n",
       "        text-align: right;\n",
       "    }\n",
       "</style>\n",
       "<table border=\"1\" class=\"dataframe\">\n",
       "  <thead>\n",
       "    <tr style=\"text-align: right;\">\n",
       "      <th></th>\n",
       "      <th>source_language</th>\n",
       "      <th>source_sentence</th>\n",
       "      <th>target_language</th>\n",
       "      <th>target_sentence</th>\n",
       "    </tr>\n",
       "  </thead>\n",
       "  <tbody>\n",
       "    <tr>\n",
       "      <th>0</th>\n",
       "      <td>en</td>\n",
       "      <td>about Citizens Information</td>\n",
       "      <td>ga</td>\n",
       "      <td>maidir le faisnéis do shaoránaigh</td>\n",
       "    </tr>\n",
       "    <tr>\n",
       "      <th>1</th>\n",
       "      <td>en</td>\n",
       "      <td>the Citizens Information Board is the statutor...</td>\n",
       "      <td>ga</td>\n",
       "      <td>is é an Bord um fhaisnéis do shaoránaigh ( BFS...</td>\n",
       "    </tr>\n",
       "    <tr>\n",
       "      <th>2</th>\n",
       "      <td>en</td>\n",
       "      <td>it provides the Citizens Information website ,...</td>\n",
       "      <td>ga</td>\n",
       "      <td>cuireann sé an láithreán gréasáin um fhaisnéis...</td>\n",
       "    </tr>\n",
       "    <tr>\n",
       "      <th>3</th>\n",
       "      <td>en</td>\n",
       "      <td>it also funds and supports the Money Advice an...</td>\n",
       "      <td>ga</td>\n",
       "      <td>cuireann sé maoiniú agus tacaíocht ar fáil fre...</td>\n",
       "    </tr>\n",
       "    <tr>\n",
       "      <th>4</th>\n",
       "      <td>en</td>\n",
       "      <td>Citizensinformation.ie provides comprehensive ...</td>\n",
       "      <td>ga</td>\n",
       "      <td>cuireann citizensinformation.ie faisnéis chuim...</td>\n",
       "    </tr>\n",
       "  </tbody>\n",
       "</table>\n",
       "</div>"
      ],
      "text/plain": [
       "  source_language                                    source_sentence  \\\n",
       "0              en                         about Citizens Information   \n",
       "1              en  the Citizens Information Board is the statutor...   \n",
       "2              en  it provides the Citizens Information website ,...   \n",
       "3              en  it also funds and supports the Money Advice an...   \n",
       "4              en  Citizensinformation.ie provides comprehensive ...   \n",
       "\n",
       "  target_language                                    target_sentence  \n",
       "0              ga                  maidir le faisnéis do shaoránaigh  \n",
       "1              ga  is é an Bord um fhaisnéis do shaoránaigh ( BFS...  \n",
       "2              ga  cuireann sé an láithreán gréasáin um fhaisnéis...  \n",
       "3              ga  cuireann sé maoiniú agus tacaíocht ar fáil fre...  \n",
       "4              ga  cuireann citizensinformation.ie faisnéis chuim...  "
      ]
     },
     "execution_count": 1,
     "metadata": {},
     "output_type": "execute_result"
    }
   ],
   "source": [
    "metadata, df = tmx2dataframe.read('elrc/citizens_information_en-ga.tmx')\n",
    "print(len(df))\n",
    "df.head()"
   ]
  },
  {
   "cell_type": "markdown",
   "metadata": {},
   "source": [
    "### Code to Interate and Extract all `.tmx` files downloaded"
   ]
  },
  {
   "cell_type": "code",
   "execution_count": 22,
   "metadata": {},
   "outputs": [
    {
     "data": {
      "text/html": [
       "\n",
       "    <div>\n",
       "        <style>\n",
       "            /* Turns off some styling */\n",
       "            progress {\n",
       "                /* gets rid of default border in Firefox and Opera. */\n",
       "                border: none;\n",
       "                /* Needs to be in here for Safari polyfill so background images work as expected. */\n",
       "                background-size: auto;\n",
       "            }\n",
       "            .progress-bar-interrupted, .progress-bar-interrupted::-webkit-progress-bar {\n",
       "                background: #F44336;\n",
       "            }\n",
       "        </style>\n",
       "      <progress value='77' class='' max='77', style='width:300px; height:20px; vertical-align: middle;'></progress>\n",
       "      100.00% [77/77 00:14<00:00]\n",
       "    </div>\n",
       "    "
      ],
      "text/plain": [
       "<IPython.core.display.HTML object>"
      ]
     },
     "metadata": {},
     "output_type": "display_data"
    },
    {
     "name": "stdout",
     "output_type": "stream",
     "text": [
      "34235 total text samples extracted\n"
     ]
    }
   ],
   "source": [
    "lang='ga'            \n",
    "dir_path = Path(f'elrc') \n",
    "samp_count=0\n",
    "for f in progress_bar(list(dir_path.iterdir())): \n",
    "    if f.suffix == '.tmx': \n",
    "        try:\n",
    "            _, df = tmx2dataframe.read(str(f))\n",
    "            # If target_language in dataframe contains the language string (like 'ga')\n",
    "            df.target_language = df.target_language.str.lower()\n",
    "            if len(df[df.target_language.str.contains(lang)]) > 0:\n",
    "                ga_df = df[df.target_language.str.contains(lang)].copy()\n",
    "                ga_df['filepath'] = str(f)\n",
    "        except:pass\n",
    "            #print(f\"Couldn't open {f}\") \n",
    "\n",
    "        var_exists = 'ga_df' in locals() or 'ga_df' in globals()\n",
    "        if var_exists:\n",
    "            #print(f'{len(ga_df)} samples found in {f}')\n",
    "            samp_count+=len(ga_df)\n",
    "            ga_df.reset_index(inplace=True, drop=True)\n",
    "            ga_df.to_csv(f'{str(f).lower()}.csv')\n",
    "            del ga_df\n",
    "            gc.collect()\n",
    "        #else: print(f'No {lang} text found in {f} ?')\n",
    "        #print()\n",
    "        \n",
    "print(f'{samp_count} total text samples extracted')"
   ]
  },
  {
   "cell_type": "markdown",
   "metadata": {},
   "source": [
    "### Compile Saved CSVs"
   ]
  },
  {
   "cell_type": "code",
   "execution_count": 23,
   "metadata": {},
   "outputs": [
    {
     "data": {
      "text/html": [
       "\n",
       "    <div>\n",
       "        <style>\n",
       "            /* Turns off some styling */\n",
       "            progress {\n",
       "                /* gets rid of default border in Firefox and Opera. */\n",
       "                border: none;\n",
       "                /* Needs to be in here for Safari polyfill so background images work as expected. */\n",
       "                background-size: auto;\n",
       "            }\n",
       "            .progress-bar-interrupted, .progress-bar-interrupted::-webkit-progress-bar {\n",
       "                background: #F44336;\n",
       "            }\n",
       "        </style>\n",
       "      <progress value='34' class='' max='34', style='width:300px; height:20px; vertical-align: middle;'></progress>\n",
       "      100.00% [34/34 00:00<00:00]\n",
       "    </div>\n",
       "    "
      ],
      "text/plain": [
       "<IPython.core.display.HTML object>"
      ]
     },
     "metadata": {},
     "output_type": "display_data"
    },
    {
     "name": "stdout",
     "output_type": "stream",
     "text": [
      "34243\n"
     ]
    },
    {
     "data": {
      "text/html": [
       "<div>\n",
       "<style scoped>\n",
       "    .dataframe tbody tr th:only-of-type {\n",
       "        vertical-align: middle;\n",
       "    }\n",
       "\n",
       "    .dataframe tbody tr th {\n",
       "        vertical-align: top;\n",
       "    }\n",
       "\n",
       "    .dataframe thead th {\n",
       "        text-align: right;\n",
       "    }\n",
       "</style>\n",
       "<table border=\"1\" class=\"dataframe\">\n",
       "  <thead>\n",
       "    <tr style=\"text-align: right;\">\n",
       "      <th></th>\n",
       "      <th>source_language</th>\n",
       "      <th>source_sentence</th>\n",
       "      <th>target_language</th>\n",
       "      <th>target_sentence</th>\n",
       "      <th>filepath</th>\n",
       "    </tr>\n",
       "  </thead>\n",
       "  <tbody>\n",
       "    <tr>\n",
       "      <th>0</th>\n",
       "      <td>en</td>\n",
       "      <td>Press release31 March 2020Brussels</td>\n",
       "      <td>ga</td>\n",
       "      <td>Preaseisiúint March 31, 2020An Bhruiséil</td>\n",
       "      <td>elrc/covid19_eu_presscorner_en-ga.tmx</td>\n",
       "    </tr>\n",
       "    <tr>\n",
       "      <th>1</th>\n",
       "      <td>en</td>\n",
       "      <td>State aid: Coronavirus: Irish Repayable Advanc...</td>\n",
       "      <td>ga</td>\n",
       "      <td>Státchabhair: An coróinvíreas: Scéim Réamhíoca...</td>\n",
       "      <td>elrc/covid19_eu_presscorner_en-ga.tmx</td>\n",
       "    </tr>\n",
       "    <tr>\n",
       "      <th>2</th>\n",
       "      <td>en</td>\n",
       "      <td>(i) Direct grants, selective tax advantages an...</td>\n",
       "      <td>ga</td>\n",
       "      <td>(i) an deontas díreach, buntáistí cánach roghn...</td>\n",
       "      <td>elrc/covid19_eu_presscorner_en-ga.tmx</td>\n",
       "    </tr>\n",
       "    <tr>\n",
       "      <th>3</th>\n",
       "      <td>en</td>\n",
       "      <td>(i) Direct grants, equity injections, selectiv...</td>\n",
       "      <td>ga</td>\n",
       "      <td>(i) Deontais dhíreacha, instealltaí cothromais...</td>\n",
       "      <td>elrc/covid19_eu_presscorner_en-ga.tmx</td>\n",
       "    </tr>\n",
       "    <tr>\n",
       "      <th>4</th>\n",
       "      <td>en</td>\n",
       "      <td>State aid_coronavirus_IrelandThe European Comm...</td>\n",
       "      <td>ga</td>\n",
       "      <td>Bearta tacaíochta na hÉireann</td>\n",
       "      <td>elrc/covid19_eu_presscorner_en-ga.tmx</td>\n",
       "    </tr>\n",
       "  </tbody>\n",
       "</table>\n",
       "</div>"
      ],
      "text/plain": [
       "  source_language                                    source_sentence  \\\n",
       "0              en                 Press release31 March 2020Brussels   \n",
       "1              en  State aid: Coronavirus: Irish Repayable Advanc...   \n",
       "2              en  (i) Direct grants, selective tax advantages an...   \n",
       "3              en  (i) Direct grants, equity injections, selectiv...   \n",
       "4              en  State aid_coronavirus_IrelandThe European Comm...   \n",
       "\n",
       "  target_language                                    target_sentence  \\\n",
       "0              ga           Preaseisiúint March 31, 2020An Bhruiséil   \n",
       "1              ga  Státchabhair: An coróinvíreas: Scéim Réamhíoca...   \n",
       "2              ga  (i) an deontas díreach, buntáistí cánach roghn...   \n",
       "3              ga  (i) Deontais dhíreacha, instealltaí cothromais...   \n",
       "4              ga                      Bearta tacaíochta na hÉireann   \n",
       "\n",
       "                                filepath  \n",
       "0  elrc/covid19_eu_presscorner_en-ga.tmx  \n",
       "1  elrc/covid19_eu_presscorner_en-ga.tmx  \n",
       "2  elrc/covid19_eu_presscorner_en-ga.tmx  \n",
       "3  elrc/covid19_eu_presscorner_en-ga.tmx  \n",
       "4  elrc/covid19_eu_presscorner_en-ga.tmx  "
      ]
     },
     "execution_count": 23,
     "metadata": {},
     "output_type": "execute_result"
    }
   ],
   "source": [
    "lang='ga'            \n",
    "dir_path = Path(f'elrc') \n",
    "\n",
    "f_list = []\n",
    "for f in list(dir_path.iterdir()):\n",
    "    if f.suffix == '.csv': f_list.append(f)\n",
    "\n",
    "for i,f in enumerate(progress_bar(f_list)): \n",
    "    try:\n",
    "        if i == 0: ga_df = pd.read_csv(f, index_col=0)\n",
    "        tmp = pd.read_csv(f, index_col=0)\n",
    "        ga_df = pd.concat([ga_df, tmp])\n",
    "    except:\n",
    "        print(f'Error with opening {f}')\n",
    "\n",
    "ga_df.reset_index(inplace=True, drop=True)\n",
    "print(len(ga_df))\n",
    "ga_df.to_csv('elrc_en-ga_compiled_2020-06-11.csv', index=False)\n",
    "ga_df.head()"
   ]
  },
  {
   "cell_type": "markdown",
   "metadata": {},
   "source": [
    "Number source documents:"
   ]
  },
  {
   "cell_type": "code",
   "execution_count": 29,
   "metadata": {},
   "outputs": [
    {
     "data": {
      "text/plain": [
       "33"
      ]
     },
     "execution_count": 29,
     "metadata": {},
     "output_type": "execute_result"
    }
   ],
   "source": [
    "# hide_input\n",
    "len(pd.DataFrame(ga_df.groupby('filepath').size().sort_values(ascending=False)))"
   ]
  },
  {
   "cell_type": "markdown",
   "metadata": {},
   "source": [
    "Number of lines per source document:"
   ]
  },
  {
   "cell_type": "code",
   "execution_count": 30,
   "metadata": {},
   "outputs": [
    {
     "data": {
      "text/html": [
       "<div>\n",
       "<style scoped>\n",
       "    .dataframe tbody tr th:only-of-type {\n",
       "        vertical-align: middle;\n",
       "    }\n",
       "\n",
       "    .dataframe tbody tr th {\n",
       "        vertical-align: top;\n",
       "    }\n",
       "\n",
       "    .dataframe thead th {\n",
       "        text-align: right;\n",
       "    }\n",
       "</style>\n",
       "<table border=\"1\" class=\"dataframe\">\n",
       "  <thead>\n",
       "    <tr style=\"text-align: right;\">\n",
       "      <th></th>\n",
       "      <th>0</th>\n",
       "    </tr>\n",
       "    <tr>\n",
       "      <th>filepath</th>\n",
       "      <th></th>\n",
       "    </tr>\n",
       "  </thead>\n",
       "  <tbody>\n",
       "    <tr>\n",
       "      <th>elrc/citizens_information_en-ga.tmx</th>\n",
       "      <td>10297</td>\n",
       "    </tr>\n",
       "    <tr>\n",
       "      <th>elrc/Tuarascalaca_Bliantula_na_Roinne_Leanai_agus_Gnothai_Oige_en_ga_clean.tmx</th>\n",
       "      <td>2954</td>\n",
       "    </tr>\n",
       "    <tr>\n",
       "      <th>elrc/Tuarascail_Bhliantuil_Chomhairle_Chontae_Longfoirt_2017_en_ga_clean.tmx</th>\n",
       "      <td>2646</td>\n",
       "    </tr>\n",
       "    <tr>\n",
       "      <th>elrc/medical_domain_en-ga.tmx</th>\n",
       "      <td>1289</td>\n",
       "    </tr>\n",
       "    <tr>\n",
       "      <th>elrc/website_parallel_corpus_2259.en-ga.tmx</th>\n",
       "      <td>1134</td>\n",
       "    </tr>\n",
       "    <tr>\n",
       "      <th>elrc/Programme_for_Government_Annual_Report_2013_en_ga_clean.tmx</th>\n",
       "      <td>1020</td>\n",
       "    </tr>\n",
       "    <tr>\n",
       "      <th>elrc/Preasraitis_Gaois_Fiontar_Scoil_na_Gaeilge_DCU_1_en_ga_clean.tmx</th>\n",
       "      <td>975</td>\n",
       "    </tr>\n",
       "    <tr>\n",
       "      <th>elrc/Raitis_Airgeadais_Ollscoil_Mha_Nuad_2017-2018_en_ga_clean.tmx</th>\n",
       "      <td>677</td>\n",
       "    </tr>\n",
       "    <tr>\n",
       "      <th>elrc/Raitis_Airgeadais_Oifig_an_Choimisineara_Teanga_en_ga_clean.tmx</th>\n",
       "      <td>487</td>\n",
       "    </tr>\n",
       "    <tr>\n",
       "      <th>elrc/eu_vacination_portal_en-ga.tmx</th>\n",
       "      <td>359</td>\n",
       "    </tr>\n",
       "    <tr>\n",
       "      <th>elrc/Press_Releases_from_Department_of_Children_January-May_2019_en_ga_clean.tmx</th>\n",
       "      <td>353</td>\n",
       "    </tr>\n",
       "    <tr>\n",
       "      <th>elrc/coimisineir_teanga_web_corpus.tmx</th>\n",
       "      <td>321</td>\n",
       "    </tr>\n",
       "    <tr>\n",
       "      <th>elrc/Oifigi_Ombudsman_in_Eirinn_en_ga_clean.tmx</th>\n",
       "      <td>249</td>\n",
       "    </tr>\n",
       "    <tr>\n",
       "      <th>elrc/Leabhran_dAonad_Altranais_Pobail_Teach Uí_Riada_en_ga_clean.tmx</th>\n",
       "      <td>220</td>\n",
       "    </tr>\n",
       "    <tr>\n",
       "      <th>elrc/Tearmaiocht_agus_aistriucha_in_a_bhaineann_le_fograi_poist_foluntais_abhair_chomortha_1916_agus_eolas_ginearalta_ar_Oifig_na_Gaeilge_en_ga_clean.tmx</th>\n",
       "      <td>188</td>\n",
       "    </tr>\n",
       "    <tr>\n",
       "      <th>elrc/Polsasi_ar_Fheiniulacht_agus_Leiriu_Inscne_Ollscoil_Mha_Nuad 2019 _en_ga_clean.tmx</th>\n",
       "      <td>177</td>\n",
       "    </tr>\n",
       "    <tr>\n",
       "      <th>elrc/Preasraitis_Gaois_Fiontar_Scoil_na_Gaeilge_DCU_2_en_ga_clean.tmx</th>\n",
       "      <td>162</td>\n",
       "    </tr>\n",
       "    <tr>\n",
       "      <th>elrc/Preasraitis_Oifig_an_Choimisinéara_Teanga_en_ga_clean.tmx</th>\n",
       "      <td>91</td>\n",
       "    </tr>\n",
       "    <tr>\n",
       "      <th>elrc/Preasraitis_Ollscoil_Mha_Nuad_Earrach_2019_en_ga_clean.tmx</th>\n",
       "      <td>71</td>\n",
       "    </tr>\n",
       "    <tr>\n",
       "      <th>elrc/Tuairisc_a_thug_Maire_Nic_Shiubhlaigh_en_ga_clean.tmx</th>\n",
       "      <td>50</td>\n",
       "    </tr>\n",
       "    <tr>\n",
       "      <th>elrc/Preasraiteas_Mi_Iuil_en_ga_clean.tmx</th>\n",
       "      <td>40</td>\n",
       "    </tr>\n",
       "    <tr>\n",
       "      <th>elrc/Preasraitis_Ollscoil_Mha_Nuad_Samhradh 2019_en_ga_clean.tmx</th>\n",
       "      <td>38</td>\n",
       "    </tr>\n",
       "    <tr>\n",
       "      <th>elrc/Preasraiteas_faoi_foirgneamh_nua_scoile_en_ga_clean.tmx</th>\n",
       "      <td>22</td>\n",
       "    </tr>\n",
       "    <tr>\n",
       "      <th>elrc/Litir_ó_Oifig_an_Choimisinéara_Teanga_en_ga_clean.tmx</th>\n",
       "      <td>22</td>\n",
       "    </tr>\n",
       "    <tr>\n",
       "      <th>elrc/Faisnéis faoi IDS_en_ga_clean.tmx</th>\n",
       "      <td>20</td>\n",
       "    </tr>\n",
       "    <tr>\n",
       "      <th>elrc/Toiliu_don_Scagthastail_Scoile_um_Amhairc_Eisteachta_en_ga_clean.tmx</th>\n",
       "      <td>19</td>\n",
       "    </tr>\n",
       "    <tr>\n",
       "      <th>elrc/covid19_eu_presscorner_en-ga.tmx</th>\n",
       "      <td>16</td>\n",
       "    </tr>\n",
       "    <tr>\n",
       "      <th>elrc/covid19_europarl_v1_en-ga.tmx</th>\n",
       "      <td>13</td>\n",
       "    </tr>\n",
       "    <tr>\n",
       "      <th>elrc/Pleananna_ITBAC_le_comóradh_a_dheanamh_ar_1916_en_ga_clean.tmx</th>\n",
       "      <td>10</td>\n",
       "    </tr>\n",
       "    <tr>\n",
       "      <th>elrc/Foirm FSS Iarratais Duine ar a Shonraí _en_ga_clean.tmx</th>\n",
       "      <td>10</td>\n",
       "    </tr>\n",
       "    <tr>\n",
       "      <th>elrc/Postaer_faoi_scoil_ag_claru_en_ga_clean.tmx</th>\n",
       "      <td>6</td>\n",
       "    </tr>\n",
       "    <tr>\n",
       "      <th>elrc/Preasraiteas_faoi_Uachtarán_nua_en_ga_clean.tmx</th>\n",
       "      <td>5</td>\n",
       "    </tr>\n",
       "    <tr>\n",
       "      <th>elrc/covid19_europarl_v2_en-ga.tmx</th>\n",
       "      <td>5</td>\n",
       "    </tr>\n",
       "  </tbody>\n",
       "</table>\n",
       "</div>"
      ],
      "text/plain": [
       "                                                        0\n",
       "filepath                                                 \n",
       "elrc/citizens_information_en-ga.tmx                 10297\n",
       "elrc/Tuarascalaca_Bliantula_na_Roinne_Leanai_ag...   2954\n",
       "elrc/Tuarascail_Bhliantuil_Chomhairle_Chontae_L...   2646\n",
       "elrc/medical_domain_en-ga.tmx                        1289\n",
       "elrc/website_parallel_corpus_2259.en-ga.tmx          1134\n",
       "elrc/Programme_for_Government_Annual_Report_201...   1020\n",
       "elrc/Preasraitis_Gaois_Fiontar_Scoil_na_Gaeilge...    975\n",
       "elrc/Raitis_Airgeadais_Ollscoil_Mha_Nuad_2017-2...    677\n",
       "elrc/Raitis_Airgeadais_Oifig_an_Choimisineara_T...    487\n",
       "elrc/eu_vacination_portal_en-ga.tmx                   359\n",
       "elrc/Press_Releases_from_Department_of_Children...    353\n",
       "elrc/coimisineir_teanga_web_corpus.tmx                321\n",
       "elrc/Oifigi_Ombudsman_in_Eirinn_en_ga_clean.tmx       249\n",
       "elrc/Leabhran_dAonad_Altranais_Pobail_Teach Uí...    220\n",
       "elrc/Tearmaiocht_agus_aistriucha_in_a_bhaineann...    188\n",
       "elrc/Polsasi_ar_Fheiniulacht_agus_Leiriu_Inscne...    177\n",
       "elrc/Preasraitis_Gaois_Fiontar_Scoil_na_Gaeilge...    162\n",
       "elrc/Preasraitis_Oifig_an_Choimisinéara_Teanga...     91\n",
       "elrc/Preasraitis_Ollscoil_Mha_Nuad_Earrach_2019...     71\n",
       "elrc/Tuairisc_a_thug_Maire_Nic_Shiubhlaigh_en_g...     50\n",
       "elrc/Preasraiteas_Mi_Iuil_en_ga_clean.tmx              40\n",
       "elrc/Preasraitis_Ollscoil_Mha_Nuad_Samhradh 201...     38\n",
       "elrc/Preasraiteas_faoi_foirgneamh_nua_scoile_en...     22\n",
       "elrc/Litir_ó_Oifig_an_Choimisinéara_Teanga_en...     22\n",
       "elrc/Faisnéis faoi IDS_en_ga_clean.tmx                20\n",
       "elrc/Toiliu_don_Scagthastail_Scoile_um_Amhairc_...     19\n",
       "elrc/covid19_eu_presscorner_en-ga.tmx                  16\n",
       "elrc/covid19_europarl_v1_en-ga.tmx                     13\n",
       "elrc/Pleananna_ITBAC_le_comóradh_a_dheanamh_ar...     10\n",
       "elrc/Foirm FSS Iarratais Duine ar a Shonraí _e...     10\n",
       "elrc/Postaer_faoi_scoil_ag_claru_en_ga_clean.tmx        6\n",
       "elrc/Preasraiteas_faoi_Uachtarán_nua_en_ga_cle...      5\n",
       "elrc/covid19_europarl_v2_en-ga.tmx                      5"
      ]
     },
     "execution_count": 30,
     "metadata": {},
     "output_type": "execute_result"
    }
   ],
   "source": [
    "# hide_input\n",
    "pd.DataFrame(ga_df.groupby('filepath').size().sort_values(ascending=False))"
   ]
  }
 ],
 "metadata": {
  "kernelspec": {
   "display_name": "Python 3",
   "language": "python",
   "name": "python3"
  },
  "language_info": {
   "codemirror_mode": {
    "name": "ipython",
    "version": 3
   },
   "file_extension": ".py",
   "mimetype": "text/x-python",
   "name": "python",
   "nbconvert_exporter": "python",
   "pygments_lexer": "ipython3",
   "version": "3.7.5"
  }
 },
 "nbformat": 4,
 "nbformat_minor": 4
}

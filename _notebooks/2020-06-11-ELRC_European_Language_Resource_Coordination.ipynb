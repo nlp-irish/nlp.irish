{
 "cells": [
  {
   "cell_type": "markdown",
   "metadata": {},
   "source": [
    "# ELRC, European Language Resource Coordination\n",
    "> Documents published on the European Parliament's official website\n",
    "\n",
    "- toc: false\n",
    "- badges: false\n",
    "- comments: false\n",
    "- categories: ELRC, translation"
   ]
  },
  {
   "cell_type": "markdown",
   "metadata": {},
   "source": [
    "### Available for Download  ✅\n",
    "⚠️ Always check the license of the data source before using the data ⚠️\n",
    "- Main page: [https://elrc-share.eu/](https://elrc-share.eu/)\n",
    "- Data Browse Link: [https://elrc-share.eu/repository/search/](https://elrc-share.eu/repository/search/)\n",
    "- Format: **.tmx**"
   ]
  },
  {
   "cell_type": "markdown",
   "metadata": {},
   "source": [
    "### Brief Description\n",
    "\n",
    "The ELRC-SHARE repository is used for documenting, storing, browsing and accessing Language Resources that are collected through the European Language Resource Coordination and considered useful for feeding the CEF Automated Translation (CEF.AT) platform."
   ]
  },
  {
   "cell_type": "markdown",
   "metadata": {},
   "source": [
    "### Other Notes\n",
    "NA"
   ]
  },
  {
   "cell_type": "markdown",
   "metadata": {},
   "source": [
    "### Code to Extract to a Pandas DataFrame"
   ]
  },
  {
   "cell_type": "code",
   "execution_count": 1,
   "metadata": {
    "scrolled": true
   },
   "outputs": [
    {
     "name": "stdout",
     "output_type": "stream",
     "text": [
      "10297\n"
     ]
    },
    {
     "data": {
      "text/html": [
       "<div>\n",
       "<style scoped>\n",
       "    .dataframe tbody tr th:only-of-type {\n",
       "        vertical-align: middle;\n",
       "    }\n",
       "\n",
       "    .dataframe tbody tr th {\n",
       "        vertical-align: top;\n",
       "    }\n",
       "\n",
       "    .dataframe thead th {\n",
       "        text-align: right;\n",
       "    }\n",
       "</style>\n",
       "<table border=\"1\" class=\"dataframe\">\n",
       "  <thead>\n",
       "    <tr style=\"text-align: right;\">\n",
       "      <th></th>\n",
       "      <th>source_language</th>\n",
       "      <th>source_sentence</th>\n",
       "      <th>target_language</th>\n",
       "      <th>target_sentence</th>\n",
       "    </tr>\n",
       "  </thead>\n",
       "  <tbody>\n",
       "    <tr>\n",
       "      <th>0</th>\n",
       "      <td>en</td>\n",
       "      <td>about Citizens Information</td>\n",
       "      <td>ga</td>\n",
       "      <td>maidir le faisnéis do shaoránaigh</td>\n",
       "    </tr>\n",
       "    <tr>\n",
       "      <th>1</th>\n",
       "      <td>en</td>\n",
       "      <td>the Citizens Information Board is the statutor...</td>\n",
       "      <td>ga</td>\n",
       "      <td>is é an Bord um fhaisnéis do shaoránaigh ( BFS...</td>\n",
       "    </tr>\n",
       "    <tr>\n",
       "      <th>2</th>\n",
       "      <td>en</td>\n",
       "      <td>it provides the Citizens Information website ,...</td>\n",
       "      <td>ga</td>\n",
       "      <td>cuireann sé an láithreán gréasáin um fhaisnéis...</td>\n",
       "    </tr>\n",
       "    <tr>\n",
       "      <th>3</th>\n",
       "      <td>en</td>\n",
       "      <td>it also funds and supports the Money Advice an...</td>\n",
       "      <td>ga</td>\n",
       "      <td>cuireann sé maoiniú agus tacaíocht ar fáil fre...</td>\n",
       "    </tr>\n",
       "    <tr>\n",
       "      <th>4</th>\n",
       "      <td>en</td>\n",
       "      <td>Citizensinformation.ie provides comprehensive ...</td>\n",
       "      <td>ga</td>\n",
       "      <td>cuireann citizensinformation.ie faisnéis chuim...</td>\n",
       "    </tr>\n",
       "  </tbody>\n",
       "</table>\n",
       "</div>"
      ],
      "text/plain": [
       "  source_language                                    source_sentence  \\\n",
       "0              en                         about Citizens Information   \n",
       "1              en  the Citizens Information Board is the statutor...   \n",
       "2              en  it provides the Citizens Information website ,...   \n",
       "3              en  it also funds and supports the Money Advice an...   \n",
       "4              en  Citizensinformation.ie provides comprehensive ...   \n",
       "\n",
       "  target_language                                    target_sentence  \n",
       "0              ga                  maidir le faisnéis do shaoránaigh  \n",
       "1              ga  is é an Bord um fhaisnéis do shaoránaigh ( BFS...  \n",
       "2              ga  cuireann sé an láithreán gréasáin um fhaisnéis...  \n",
       "3              ga  cuireann sé maoiniú agus tacaíocht ar fáil fre...  \n",
       "4              ga  cuireann citizensinformation.ie faisnéis chuim...  "
      ]
     },
     "execution_count": 1,
     "metadata": {},
     "output_type": "execute_result"
    }
   ],
   "source": [
    "from pathlib import Path\n",
    "import pandas as pd\n",
    "from tmx2dataframe import tmx2dataframe\n",
    "\n",
    "metadata, df = tmx2dataframe.read('elrc/citizens_information_en-ga.tmx')\n",
    "print(len(df))\n",
    "df.head()"
   ]
  },
  {
   "cell_type": "markdown",
   "metadata": {},
   "source": [
    "### Code to Interate and Extract all `.tmx` files downloaded"
   ]
  },
  {
   "cell_type": "code",
   "execution_count": 22,
   "metadata": {},
   "outputs": [
    {
     "data": {
      "text/html": [
       "\n",
       "    <div>\n",
       "        <style>\n",
       "            /* Turns off some styling */\n",
       "            progress {\n",
       "                /* gets rid of default border in Firefox and Opera. */\n",
       "                border: none;\n",
       "                /* Needs to be in here for Safari polyfill so background images work as expected. */\n",
       "                background-size: auto;\n",
       "            }\n",
       "            .progress-bar-interrupted, .progress-bar-interrupted::-webkit-progress-bar {\n",
       "                background: #F44336;\n",
       "            }\n",
       "        </style>\n",
       "      <progress value='77' class='' max='77', style='width:300px; height:20px; vertical-align: middle;'></progress>\n",
       "      100.00% [77/77 00:14<00:00]\n",
       "    </div>\n",
       "    "
      ],
      "text/plain": [
       "<IPython.core.display.HTML object>"
      ]
     },
     "metadata": {},
     "output_type": "display_data"
    },
    {
     "name": "stdout",
     "output_type": "stream",
     "text": [
      "34235 total text samples extracted\n"
     ]
    }
   ],
   "source": [
    "from fastprogress.fastprogress import master_bar, progress_bar\n",
    "import gc\n",
    "\n",
    "lang='ga'            \n",
    "dir_path = Path(f'elrc') \n",
    "samp_count=0\n",
    "for f in progress_bar(list(dir_path.iterdir())): \n",
    "    if f.suffix == '.tmx': \n",
    "        try:\n",
    "            _, df = tmx2dataframe.read(str(f))\n",
    "            # If target_language in dataframe contains the language string (like 'ga')\n",
    "            df.target_language = df.target_language.str.lower()\n",
    "            if len(df[df.target_language.str.contains(lang)]) > 0:\n",
    "                ga_df = df[df.target_language.str.contains(lang)].copy()\n",
    "                ga_df['filepath'] = str(f)\n",
    "        except:pass\n",
    "            #print(f\"Couldn't open {f}\") \n",
    "\n",
    "        var_exists = 'ga_df' in locals() or 'ga_df' in globals()\n",
    "        if var_exists:\n",
    "            #print(f'{len(ga_df)} samples found in {f}')\n",
    "            samp_count+=len(ga_df)\n",
    "            ga_df.reset_index(inplace=True, drop=True)\n",
    "            ga_df.to_csv(f'{str(f).lower()}.csv')\n",
    "            del ga_df\n",
    "            gc.collect()\n",
    "        #else: print(f'No {lang} text found in {f} ?')\n",
    "        #print()\n",
    "        \n",
    "print(f'{samp_count} total text samples extracted')"
   ]
  },
  {
   "cell_type": "markdown",
   "metadata": {},
   "source": [
    "### Compile Saved CSVs"
   ]
  },
  {
   "cell_type": "code",
   "execution_count": 23,
   "metadata": {},
   "outputs": [
    {
     "data": {
      "text/html": [
       "\n",
       "    <div>\n",
       "        <style>\n",
       "            /* Turns off some styling */\n",
       "            progress {\n",
       "                /* gets rid of default border in Firefox and Opera. */\n",
       "                border: none;\n",
       "                /* Needs to be in here for Safari polyfill so background images work as expected. */\n",
       "                background-size: auto;\n",
       "            }\n",
       "            .progress-bar-interrupted, .progress-bar-interrupted::-webkit-progress-bar {\n",
       "                background: #F44336;\n",
       "            }\n",
       "        </style>\n",
       "      <progress value='34' class='' max='34', style='width:300px; height:20px; vertical-align: middle;'></progress>\n",
       "      100.00% [34/34 00:00<00:00]\n",
       "    </div>\n",
       "    "
      ],
      "text/plain": [
       "<IPython.core.display.HTML object>"
      ]
     },
     "metadata": {},
     "output_type": "display_data"
    },
    {
     "name": "stdout",
     "output_type": "stream",
     "text": [
      "34243\n"
     ]
    },
    {
     "data": {
      "text/html": [
       "<div>\n",
       "<style scoped>\n",
       "    .dataframe tbody tr th:only-of-type {\n",
       "        vertical-align: middle;\n",
       "    }\n",
       "\n",
       "    .dataframe tbody tr th {\n",
       "        vertical-align: top;\n",
       "    }\n",
       "\n",
       "    .dataframe thead th {\n",
       "        text-align: right;\n",
       "    }\n",
       "</style>\n",
       "<table border=\"1\" class=\"dataframe\">\n",
       "  <thead>\n",
       "    <tr style=\"text-align: right;\">\n",
       "      <th></th>\n",
       "      <th>source_language</th>\n",
       "      <th>source_sentence</th>\n",
       "      <th>target_language</th>\n",
       "      <th>target_sentence</th>\n",
       "      <th>filepath</th>\n",
       "    </tr>\n",
       "  </thead>\n",
       "  <tbody>\n",
       "    <tr>\n",
       "      <th>0</th>\n",
       "      <td>en</td>\n",
       "      <td>Press release31 March 2020Brussels</td>\n",
       "      <td>ga</td>\n",
       "      <td>Preaseisiúint March 31, 2020An Bhruiséil</td>\n",
       "      <td>elrc/covid19_eu_presscorner_en-ga.tmx</td>\n",
       "    </tr>\n",
       "    <tr>\n",
       "      <th>1</th>\n",
       "      <td>en</td>\n",
       "      <td>State aid: Coronavirus: Irish Repayable Advanc...</td>\n",
       "      <td>ga</td>\n",
       "      <td>Státchabhair: An coróinvíreas: Scéim Réamhíoca...</td>\n",
       "      <td>elrc/covid19_eu_presscorner_en-ga.tmx</td>\n",
       "    </tr>\n",
       "    <tr>\n",
       "      <th>2</th>\n",
       "      <td>en</td>\n",
       "      <td>(i) Direct grants, selective tax advantages an...</td>\n",
       "      <td>ga</td>\n",
       "      <td>(i) an deontas díreach, buntáistí cánach roghn...</td>\n",
       "      <td>elrc/covid19_eu_presscorner_en-ga.tmx</td>\n",
       "    </tr>\n",
       "    <tr>\n",
       "      <th>3</th>\n",
       "      <td>en</td>\n",
       "      <td>(i) Direct grants, equity injections, selectiv...</td>\n",
       "      <td>ga</td>\n",
       "      <td>(i) Deontais dhíreacha, instealltaí cothromais...</td>\n",
       "      <td>elrc/covid19_eu_presscorner_en-ga.tmx</td>\n",
       "    </tr>\n",
       "    <tr>\n",
       "      <th>4</th>\n",
       "      <td>en</td>\n",
       "      <td>State aid_coronavirus_IrelandThe European Comm...</td>\n",
       "      <td>ga</td>\n",
       "      <td>Bearta tacaíochta na hÉireann</td>\n",
       "      <td>elrc/covid19_eu_presscorner_en-ga.tmx</td>\n",
       "    </tr>\n",
       "  </tbody>\n",
       "</table>\n",
       "</div>"
      ],
      "text/plain": [
       "  source_language                                    source_sentence  \\\n",
       "0              en                 Press release31 March 2020Brussels   \n",
       "1              en  State aid: Coronavirus: Irish Repayable Advanc...   \n",
       "2              en  (i) Direct grants, selective tax advantages an...   \n",
       "3              en  (i) Direct grants, equity injections, selectiv...   \n",
       "4              en  State aid_coronavirus_IrelandThe European Comm...   \n",
       "\n",
       "  target_language                                    target_sentence  \\\n",
       "0              ga           Preaseisiúint March 31, 2020An Bhruiséil   \n",
       "1              ga  Státchabhair: An coróinvíreas: Scéim Réamhíoca...   \n",
       "2              ga  (i) an deontas díreach, buntáistí cánach roghn...   \n",
       "3              ga  (i) Deontais dhíreacha, instealltaí cothromais...   \n",
       "4              ga                      Bearta tacaíochta na hÉireann   \n",
       "\n",
       "                                filepath  \n",
       "0  elrc/covid19_eu_presscorner_en-ga.tmx  \n",
       "1  elrc/covid19_eu_presscorner_en-ga.tmx  \n",
       "2  elrc/covid19_eu_presscorner_en-ga.tmx  \n",
       "3  elrc/covid19_eu_presscorner_en-ga.tmx  \n",
       "4  elrc/covid19_eu_presscorner_en-ga.tmx  "
      ]
     },
     "execution_count": 23,
     "metadata": {},
     "output_type": "execute_result"
    }
   ],
   "source": [
    "from fastprogress.fastprogress import master_bar, progress_bar\n",
    "import gc\n",
    "\n",
    "lang='ga'            \n",
    "dir_path = Path(f'elrc') \n",
    "\n",
    "f_list = []\n",
    "for f in list(dir_path.iterdir()):\n",
    "    if f.suffix == '.csv': f_list.append(f)\n",
    "\n",
    "for i,f in enumerate(progress_bar(f_list)): \n",
    "    try:\n",
    "        if i == 0: ga_df = pd.read_csv(f, index_col=0)\n",
    "        tmp = pd.read_csv(f, index_col=0)\n",
    "        ga_df = pd.concat([ga_df, tmp])\n",
    "    except:\n",
    "        print(f'Error with opening {f}')\n",
    "\n",
    "ga_df.reset_index(inplace=True, drop=True)\n",
    "print(len(ga_df))\n",
    "ga_df.to_csv('elrc_en-ga_compiled_2020-06-11.csv', index=False)\n",
    "ga_df.head()"
   ]
  }
 ],
 "metadata": {
  "kernelspec": {
   "display_name": "Python 3",
   "language": "python",
   "name": "python3"
  },
  "language_info": {
   "codemirror_mode": {
    "name": "ipython",
    "version": 3
   },
   "file_extension": ".py",
   "mimetype": "text/x-python",
   "name": "python",
   "nbconvert_exporter": "python",
   "pygments_lexer": "ipython3",
   "version": "3.7.5"
  }
 },
 "nbformat": 4,
 "nbformat_minor": 4
}
